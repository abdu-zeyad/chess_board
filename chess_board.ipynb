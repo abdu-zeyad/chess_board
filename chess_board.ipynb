{
 "cells": [
  {
   "cell_type": "code",
   "execution_count": 180,
   "source": [
    "import numpy as np\n",
    "import matplotlib.pyplot as plt\n",
    "\n"
   ],
   "outputs": [],
   "metadata": {}
  },
  {
   "cell_type": "code",
   "execution_count": 181,
   "source": [
    "class Board:\n",
    "    def __init__(self):\n",
    "        self.grid = np.zeros((8,8,3))\n",
    "        white = (1,1,1)\n",
    "        black = (0,0,0)\n",
    "        self.red = (1,.2,0)\n",
    "        self.blue = (0,1,1)\n",
    "\n",
    "        for row in range(8):\n",
    "          for col in range(8):\n",
    "            if row %2 == 0 and col % 2 == 0:\n",
    "                 self.grid[row][col] = white\n",
    "            elif row %2 != 0 and col %2 !=0:\n",
    "                 self.grid[row][col] = white\n",
    "\n",
    "    def add_red(self, row, col):\n",
    "            self.grid[row][col] = self.red\n",
    "\n",
    "\n",
    "    def add_blue(self, row, col):\n",
    "                    self.grid[row][col] = self.blue\n",
    "\n",
    "\n",
    "    def is_under_attack(self):\n",
    "        # check board and return True if red is under attack\n",
    "        return True\n",
    "\n",
    "    def render(self):\n",
    "\n",
    "        plt.imshow(self.grid)\n",
    "\n",
    "if __name__ == '__main__':\n",
    "    board= Board()\n",
    "    board.add_red(4,3)\n",
    "    board.add_blue(1,5)\n",
    "    board.render()\n"
   ],
   "outputs": [
    {
     "output_type": "error",
     "ename": "SyntaxError",
     "evalue": "invalid syntax (1781071815.py, line 32)",
     "traceback": [
      "\u001b[0;36m  File \u001b[0;32m\"/tmp/ipykernel_17359/1781071815.py\"\u001b[0;36m, line \u001b[0;32m32\u001b[0m\n\u001b[0;31m    if __name__ = '__main__':\u001b[0m\n\u001b[0m                ^\u001b[0m\n\u001b[0;31mSyntaxError\u001b[0m\u001b[0;31m:\u001b[0m invalid syntax\n"
     ]
    }
   ],
   "metadata": {}
  }
 ],
 "metadata": {
  "orig_nbformat": 4,
  "language_info": {
   "name": "python",
   "version": "3.8.10",
   "mimetype": "text/x-python",
   "codemirror_mode": {
    "name": "ipython",
    "version": 3
   },
   "pygments_lexer": "ipython3",
   "nbconvert_exporter": "python",
   "file_extension": ".py"
  },
  "kernelspec": {
   "name": "python3",
   "display_name": "Python 3.8.10 64-bit ('.venv': poetry)"
  },
  "interpreter": {
   "hash": "5b6189b8abcdeeefe877002165a09e314039b4cbeae9430e9dcf862fb305762a"
  }
 },
 "nbformat": 4,
 "nbformat_minor": 2
}